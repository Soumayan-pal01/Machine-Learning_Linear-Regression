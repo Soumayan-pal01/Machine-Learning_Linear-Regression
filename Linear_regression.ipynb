{
  "nbformat": 4,
  "nbformat_minor": 0,
  "metadata": {
    "colab": {
      "name": "Linear_regression.ipynb",
      "provenance": [],
      "collapsed_sections": []
    },
    "kernelspec": {
      "name": "python3",
      "display_name": "Python 3"
    }
  },
  "cells": [
    {
      "cell_type": "markdown",
      "metadata": {
        "id": "s3ykhT2kmKJA",
        "colab_type": "text"
      },
      "source": [
        "# To use Gradient Descent funtion and perform linear regression on random numbers"
      ]
    },
    {
      "cell_type": "code",
      "metadata": {
        "id": "fZhaxLMGmPim",
        "colab_type": "code",
        "colab": {}
      },
      "source": [
        "%matplotlib inline\n",
        "\n",
        "import numpy as np\n",
        "import matplotlib.pyplot as plt"
      ],
      "execution_count": null,
      "outputs": []
    },
    {
      "cell_type": "code",
      "metadata": {
        "id": "91rwy5HQmMh6",
        "colab_type": "code",
        "colab": {}
      },
      "source": [
        "def generate_examples(num=1000):\n",
        "    W = [1.0, -3.0]\n",
        "    b = 1.0\n",
        "    \n",
        "    W = np.reshape(W, (2, 1))\n",
        "    \n",
        "    X = np.random.randn(num, 2)\n",
        "    y = b + np.dot(X, W) + np.random.randn()\n",
        "    \n",
        "    y = np.reshape(y, (num, 1))\n",
        "    \n",
        "    return X, y"
      ],
      "execution_count": null,
      "outputs": []
    },
    {
      "cell_type": "code",
      "metadata": {
        "id": "8smQDCtAmU_g",
        "colab_type": "code",
        "colab": {}
      },
      "source": [
        "X, y = generate_examples()"
      ],
      "execution_count": null,
      "outputs": []
    },
    {
      "cell_type": "code",
      "metadata": {
        "id": "kEvflHormaIv",
        "colab_type": "code",
        "colab": {
          "base_uri": "https://localhost:8080/",
          "height": 34
        },
        "outputId": "f298b75e-8975-4435-fe7e-d729fca2e304"
      },
      "source": [
        "print(X.shape, y.shape)"
      ],
      "execution_count": null,
      "outputs": [
        {
          "output_type": "stream",
          "text": [
            "(1000, 2) (1000, 1)\n"
          ],
          "name": "stdout"
        }
      ]
    },
    {
      "cell_type": "code",
      "metadata": {
        "id": "AxpKzOa6mdjZ",
        "colab_type": "code",
        "colab": {
          "base_uri": "https://localhost:8080/",
          "height": 34
        },
        "outputId": "0d4cdc85-6929-4907-8cf8-dbb2b570e599"
      },
      "source": [
        "print('X=', X[0], ' & y=', y[0])"
      ],
      "execution_count": null,
      "outputs": [
        {
          "output_type": "stream",
          "text": [
            "X= [-0.74012466  0.2958119 ]  & y= [0.7428711]\n"
          ],
          "name": "stdout"
        }
      ]
    },
    {
      "cell_type": "markdown",
      "metadata": {
        "id": "83mh5isemosl",
        "colab_type": "text"
      },
      "source": [
        "# Initialising parameter"
      ]
    },
    {
      "cell_type": "code",
      "metadata": {
        "id": "Lpeqw1d9mhgk",
        "colab_type": "code",
        "colab": {}
      },
      "source": [
        "class Model:\n",
        "    def __init__(self, num_features):\n",
        "        self.num_features = num_features\n",
        "        self.W = np.random.randn(num_features, 1)\n",
        "        self.b = np.random.randn()"
      ],
      "execution_count": null,
      "outputs": []
    },
    {
      "cell_type": "code",
      "metadata": {
        "id": "nu0_MVu5mxeh",
        "colab_type": "code",
        "colab": {
          "base_uri": "https://localhost:8080/",
          "height": 67
        },
        "outputId": "907d0dc1-c11a-4877-e86b-d612a957d612"
      },
      "source": [
        "model = Model(2)\n",
        "print('W=', model.W)\n",
        "print('b=', model.b)"
      ],
      "execution_count": null,
      "outputs": [
        {
          "output_type": "stream",
          "text": [
            "W= [[0.36596105]\n",
            " [0.59316554]]\n",
            "b= -2.668034892850438\n"
          ],
          "name": "stdout"
        }
      ]
    },
    {
      "cell_type": "code",
      "metadata": {
        "id": "yydOwDwVm0Th",
        "colab_type": "code",
        "colab": {}
      },
      "source": [
        ""
      ],
      "execution_count": null,
      "outputs": []
    },
    {
      "cell_type": "markdown",
      "metadata": {
        "id": "SRAr-XzFm2bm",
        "colab_type": "text"
      },
      "source": [
        "# Forward Pass function"
      ]
    },
    {
      "cell_type": "code",
      "metadata": {
        "id": "qCtx_DR7m6Zd",
        "colab_type": "code",
        "colab": {}
      },
      "source": [
        "class Model(Model):\n",
        "    def forward_pass(self, X):\n",
        "        y = self.b + np.dot(X, self.W)\n",
        "        return y"
      ],
      "execution_count": null,
      "outputs": []
    },
    {
      "cell_type": "code",
      "metadata": {
        "id": "185r6uQQm_iK",
        "colab_type": "code",
        "colab": {
          "base_uri": "https://localhost:8080/",
          "height": 34
        },
        "outputId": "65284f32-33e7-403b-90d2-f21b9d430b33"
      },
      "source": [
        "preds = Model(2).forward_pass(np.random.randn(4, 2))\n",
        "print(preds.shape)"
      ],
      "execution_count": null,
      "outputs": [
        {
          "output_type": "stream",
          "text": [
            "(4, 1)\n"
          ],
          "name": "stdout"
        }
      ]
    },
    {
      "cell_type": "markdown",
      "metadata": {
        "id": "OYcqmYd4nDiQ",
        "colab_type": "text"
      },
      "source": [
        "# Compute loss function"
      ]
    },
    {
      "cell_type": "code",
      "metadata": {
        "id": "pbKGdUXinHT0",
        "colab_type": "code",
        "colab": {}
      },
      "source": [
        "class Model(Model):\n",
        "    def compute_loss(self, y, y_true):\n",
        "        loss = np.sum(np.square(y - y_true))\n",
        "        return loss/(2*y.shape[0])"
      ],
      "execution_count": null,
      "outputs": []
    },
    {
      "cell_type": "code",
      "metadata": {
        "id": "beyHvTdknLJ2",
        "colab_type": "code",
        "colab": {}
      },
      "source": [
        "model = Model(2)\n",
        "\n",
        "preds = model.forward_pass(X)\n",
        "loss = model.compute_loss(y, preds)"
      ],
      "execution_count": null,
      "outputs": []
    },
    {
      "cell_type": "code",
      "metadata": {
        "id": "I7bALSkLnNPg",
        "colab_type": "code",
        "colab": {
          "base_uri": "https://localhost:8080/",
          "height": 34
        },
        "outputId": "c0c619cb-df17-4e0e-8e5d-ae89e69bbd98"
      },
      "source": [
        "loss"
      ],
      "execution_count": null,
      "outputs": [
        {
          "output_type": "execute_result",
          "data": {
            "text/plain": [
              "4.749294563681191"
            ]
          },
          "metadata": {
            "tags": []
          },
          "execution_count": 12
        }
      ]
    },
    {
      "cell_type": "markdown",
      "metadata": {
        "id": "s3yGsuBOnScM",
        "colab_type": "text"
      },
      "source": [
        "# Backward pass function"
      ]
    },
    {
      "cell_type": "code",
      "metadata": {
        "id": "2AssGXFgnV0l",
        "colab_type": "code",
        "colab": {}
      },
      "source": [
        "class Model(Model):\n",
        "    def backward_pass(self, X, y_true, y_hat):\n",
        "        m = y_hat.shape[0]\n",
        "        db = np.sum(y_hat - y_true)/m\n",
        "        dW = np.sum(np.dot(np.transpose(y_hat - y_true), X), axis=0)/m\n",
        "        return dW, db"
      ],
      "execution_count": null,
      "outputs": []
    },
    {
      "cell_type": "code",
      "metadata": {
        "id": "3Ls--4mRnZ7f",
        "colab_type": "code",
        "colab": {}
      },
      "source": [
        "model = Model(2)\n",
        "X, y = generate_examples()\n",
        "y_hat = np.zeros(y.shape)\n",
        "\n",
        "dW, db = model.backward_pass(X, y, y_hat)"
      ],
      "execution_count": null,
      "outputs": []
    },
    {
      "cell_type": "code",
      "metadata": {
        "id": "PiCzU3rcncJ5",
        "colab_type": "code",
        "colab": {
          "base_uri": "https://localhost:8080/",
          "height": 34
        },
        "outputId": "620ec339-bd63-44c1-ac9e-2c80f67177a7"
      },
      "source": [
        "print(dW.shape, db.shape)"
      ],
      "execution_count": null,
      "outputs": [
        {
          "output_type": "stream",
          "text": [
            "(2,) ()\n"
          ],
          "name": "stdout"
        }
      ]
    },
    {
      "cell_type": "markdown",
      "metadata": {
        "id": "O0LzZa7MnhhX",
        "colab_type": "text"
      },
      "source": [
        "# Updating parameters"
      ]
    },
    {
      "cell_type": "code",
      "metadata": {
        "id": "nxRiXpABniaX",
        "colab_type": "code",
        "colab": {}
      },
      "source": [
        "class Model(Model):\n",
        "    def update_params(self, dW, db, lr):\n",
        "        self.W = self.W - lr * np.reshape(dW, (self.num_features, 1))\n",
        "        self.b = self.b - lr * db"
      ],
      "execution_count": null,
      "outputs": []
    },
    {
      "cell_type": "markdown",
      "metadata": {
        "id": "uOTxVL3_nrwW",
        "colab_type": "text"
      },
      "source": [
        "# Calculating loss using train set"
      ]
    },
    {
      "cell_type": "code",
      "metadata": {
        "id": "8LHKbaPGnvI9",
        "colab_type": "code",
        "colab": {}
      },
      "source": [
        "class Model(Model):\n",
        "    def train(self, x_train, y_train, iterations, lr):\n",
        "        losses = []\n",
        "        for i in range(iterations):\n",
        "            y_hat = self.forward_pass(x_train)\n",
        "            dW, db = self.backward_pass(x_train, y_train, y_hat)\n",
        "            self.update_params(dW, db, lr)\n",
        "            loss = self.compute_loss(y_hat, y_train)\n",
        "            losses.append(loss)\n",
        "            if i % 100 == 0:\n",
        "                print('Iter: {}, Current loss: {:.4f}'.format(i, loss))\n",
        "        return losses"
      ],
      "execution_count": null,
      "outputs": []
    },
    {
      "cell_type": "code",
      "metadata": {
        "id": "RbHgGbPdn1yy",
        "colab_type": "code",
        "colab": {}
      },
      "source": [
        "model = Model(2)"
      ],
      "execution_count": null,
      "outputs": []
    },
    {
      "cell_type": "code",
      "metadata": {
        "id": "6bEVYCT9n472",
        "colab_type": "code",
        "colab": {}
      },
      "source": [
        "X_train, y_train = generate_examples()"
      ],
      "execution_count": null,
      "outputs": []
    },
    {
      "cell_type": "code",
      "metadata": {
        "id": "VA0BXsMPn7lj",
        "colab_type": "code",
        "colab": {
          "base_uri": "https://localhost:8080/",
          "height": 185
        },
        "outputId": "9a8e820f-d848-4d65-d55a-187dd8ce36c9"
      },
      "source": [
        "losses = model.train(X_train, y_train, 1000, 3e-3)"
      ],
      "execution_count": null,
      "outputs": [
        {
          "output_type": "stream",
          "text": [
            "Iter: 0, Current loss: 3.5436\n",
            "Iter: 100, Current loss: 1.8956\n",
            "Iter: 200, Current loss: 1.0152\n",
            "Iter: 300, Current loss: 0.5444\n",
            "Iter: 400, Current loss: 0.2923\n",
            "Iter: 500, Current loss: 0.1572\n",
            "Iter: 600, Current loss: 0.0846\n",
            "Iter: 700, Current loss: 0.0456\n",
            "Iter: 800, Current loss: 0.0246\n",
            "Iter: 900, Current loss: 0.0133\n"
          ],
          "name": "stdout"
        }
      ]
    },
    {
      "cell_type": "code",
      "metadata": {
        "id": "xnbygMEwn-h1",
        "colab_type": "code",
        "colab": {
          "base_uri": "https://localhost:8080/",
          "height": 265
        },
        "outputId": "df1fd6dc-67f0-418d-b548-cb696abc012f"
      },
      "source": [
        "plt.plot(range(1000), losses);"
      ],
      "execution_count": null,
      "outputs": [
        {
          "output_type": "display_data",
          "data": {
            "image/png": "[encoded data removed]",
            "text/plain": [
              "<Figure size 432x288 with 1 Axes>"
            ]
          },
          "metadata": {
            "tags": [],
            "needs_background": "light"
          }
        }
      ]
    },
    {
      "cell_type": "markdown",
      "metadata": {
        "id": "--S5on5LoFkP",
        "colab_type": "text"
      },
      "source": [
        "#  Making prediction using test set and plottind the best fit line"
      ]
    },
    {
      "cell_type": "code",
      "metadata": {
        "id": "PeZIsI-ooG3b",
        "colab_type": "code",
        "colab": {
          "base_uri": "https://localhost:8080/",
          "height": 374
        },
        "outputId": "9f5c033c-084a-423d-db62-299356fc3581"
      },
      "source": [
        "model_untrained = Model(2)\n",
        "\n",
        "X_test, y_test = generate_examples(500)\n",
        "y_test = np.reshape(y_test, (y_test.shape[0], 1))\n",
        "\n",
        "preds_untrained = model_untrained.forward_pass(X_test)\n",
        "preds_trained = model.forward_pass(X_test)\n",
        "\n",
        "plt.figure(figsize=(6, 6))\n",
        "plt.plot(preds_untrained, y_test, 'rx')\n",
        "plt.plot(preds_trained, y_test, 'bo')\n",
        "plt.show()"
      ],
      "execution_count": null,
      "outputs": [
        {
          "output_type": "display_data",
          "data": {
            "image/png": "[encoded data removed]",
            "text/plain": [
              "<Figure size 432x432 with 1 Axes>"
            ]
          },
          "metadata": {
            "tags": [],
            "needs_background": "light"
          }
        }
      ]
    },
    {
      "cell_type": "code",
      "metadata": {
        "id": "l5i7fCjroKqi",
        "colab_type": "code",
        "colab": {
          "base_uri": "https://localhost:8080/",
          "height": 50
        },
        "outputId": "d2a66e33-0fd3-45df-86c9-9db3ae30f793"
      },
      "source": [
        "model.W"
      ],
      "execution_count": null,
      "outputs": [
        {
          "output_type": "execute_result",
          "data": {
            "text/plain": [
              "array([[ 0.93460029],\n",
              "       [-2.900724  ]])"
            ]
          },
          "metadata": {
            "tags": []
          },
          "execution_count": 23
        }
      ]
    },
    {
      "cell_type": "code",
      "metadata": {
        "id": "bz6dMIOhoN0O",
        "colab_type": "code",
        "colab": {
          "base_uri": "https://localhost:8080/",
          "height": 34
        },
        "outputId": "3a1bdeaa-1829-4e09-8296-23f7dbe072f6"
      },
      "source": [
        "model.b"
      ],
      "execution_count": null,
      "outputs": [
        {
          "output_type": "execute_result",
          "data": {
            "text/plain": [
              "0.37287725338468225"
            ]
          },
          "metadata": {
            "tags": []
          },
          "execution_count": 24
        }
      ]
    },
    {
      "cell_type": "code",
      "metadata": {
        "id": "sZ8jFsKioQvu",
        "colab_type": "code",
        "colab": {}
      },
      "source": [
        ""
      ],
      "execution_count": null,
      "outputs": []
    }
  ]
}